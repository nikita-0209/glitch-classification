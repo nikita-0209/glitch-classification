{
  "nbformat": 4,
  "nbformat_minor": 0,
  "metadata": {
    "colab": {
      "name": "Merged_Model.ipynb",
      "provenance": [],
      "collapsed_sections": [],
      "machine_shape": "hm"
    },
    "kernelspec": {
      "name": "python3",
      "display_name": "Python 3"
    }
  },
  "cells": [
    {
      "cell_type": "markdown",
      "metadata": {
        "id": "p-qVIwMc6gIP",
        "colab_type": "text"
      },
      "source": [
        "Import Necessary Libraries"
      ]
    },
    {
      "cell_type": "code",
      "metadata": {
        "id": "WjehfVjuWV_D",
        "colab_type": "code",
        "colab": {}
      },
      "source": [
        "import h5py"
      ],
      "execution_count": 0,
      "outputs": []
    },
    {
      "cell_type": "code",
      "metadata": {
        "id": "zHAi5IkGBFvo",
        "colab_type": "code",
        "colab": {}
      },
      "source": [
        "import random"
      ],
      "execution_count": 0,
      "outputs": []
    },
    {
      "cell_type": "code",
      "metadata": {
        "id": "m2YkyPqoDblT",
        "colab_type": "code",
        "colab": {}
      },
      "source": [
        "from tensorflow.keras.utils import to_categorical"
      ],
      "execution_count": 0,
      "outputs": []
    },
    {
      "cell_type": "code",
      "metadata": {
        "id": "X2zvjq_W50y9",
        "colab_type": "code",
        "colab": {}
      },
      "source": [
        "from tensorflow.python.keras.layers import Dense, Flatten, MaxPooling2D\n",
        "from tensorflow.python.keras import Sequential\n",
        "from tensorflow.keras.layers import Conv2D\n",
        "from tensorflow.keras.optimizers import Adadelta\n",
        "from tensorflow.keras.optimizers import Adam\n",
        "from tensorflow.keras.losses import CategoricalCrossentropy"
      ],
      "execution_count": 0,
      "outputs": []
    },
    {
      "cell_type": "code",
      "metadata": {
        "id": "YotYSPs4pJns",
        "colab_type": "code",
        "colab": {}
      },
      "source": [
        "import matplotlib.pyplot as plt\n",
        "import matplotlib.image as img\n",
        "%matplotlib inline"
      ],
      "execution_count": 0,
      "outputs": []
    },
    {
      "cell_type": "code",
      "metadata": {
        "id": "tQU0jwl9Wjo9",
        "colab_type": "code",
        "colab": {}
      },
      "source": [
        "import cv2"
      ],
      "execution_count": 0,
      "outputs": []
    },
    {
      "cell_type": "code",
      "metadata": {
        "id": "dMRFraIvYjMM",
        "colab_type": "code",
        "colab": {}
      },
      "source": [
        "import numpy as np"
      ],
      "execution_count": 0,
      "outputs": []
    },
    {
      "cell_type": "code",
      "metadata": {
        "id": "c9BoSoHghIcs",
        "colab_type": "code",
        "colab": {}
      },
      "source": [
        "import pandas as pd"
      ],
      "execution_count": 0,
      "outputs": []
    },
    {
      "cell_type": "code",
      "metadata": {
        "id": "aOUv4Bufvx8W",
        "colab_type": "code",
        "colab": {}
      },
      "source": [
        "from sklearn.preprocessing import LabelEncoder\n",
        "label_encoder = LabelEncoder()"
      ],
      "execution_count": 0,
      "outputs": []
    },
    {
      "cell_type": "markdown",
      "metadata": {
        "id": "Alg6gtuT6mB8",
        "colab_type": "text"
      },
      "source": [
        "Load the Dataset"
      ]
    },
    {
      "cell_type": "code",
      "metadata": {
        "id": "Ba-47nP-TOVb",
        "colab_type": "code",
        "colab": {}
      },
      "source": [
        "#Load the Dataset\n",
        "hf = h5py.File('trainingsetv1d0.h5', 'r')"
      ],
      "execution_count": 0,
      "outputs": []
    },
    {
      "cell_type": "markdown",
      "metadata": {
        "id": "EDaB-4S76otz",
        "colab_type": "text"
      },
      "source": [
        "Creating a List of all Glitch Names"
      ]
    },
    {
      "cell_type": "code",
      "metadata": {
        "id": "FUMvX4b7Q7O_",
        "colab_type": "code",
        "colab": {}
      },
      "source": [
        "\n",
        "glitch_set=[]\n",
        "for glitch in hf.keys():\n",
        "  glitch_set.append(glitch)"
      ],
      "execution_count": 0,
      "outputs": []
    },
    {
      "cell_type": "markdown",
      "metadata": {
        "id": "iB04lE7R6sKC",
        "colab_type": "text"
      },
      "source": [
        "Preprocess Images to Desired Size"
      ]
    },
    {
      "cell_type": "code",
      "metadata": {
        "id": "iBZh4m1WC2J0",
        "colab_type": "code",
        "colab": {}
      },
      "source": [
        "\n",
        "def preprocessX (data, glitch_set):\n",
        "\n",
        "  image_count=0\n",
        "\n",
        "  for glitch in glitch_set:\n",
        "    length = len(hf[glitch][data].keys())\n",
        "    image_count=image_count+length\n",
        "\n",
        "  X=np.zeros((image_count, 94, 114))\n",
        "  Y=[]\n",
        "  i = 0 \n",
        "\n",
        "  for glitch in glitch_set:\n",
        "    for image in hf[glitch][data].keys():\n",
        "      img_top = np.hstack((hf[glitch][data][image]['0.5.png'][0][:], hf[glitch][data][image]['1.0.png'][0][:]))\n",
        "      img_bottom = np.hstack((hf[glitch][data][image]['2.0.png'][0][:], hf[glitch][data][image]['4.0.png'][0][:]))\n",
        "      img = np.vstack((img_top, img_bottom))\n",
        "      resized = cv2.resize(img, (114, 94), interpolation = cv2.INTER_AREA)\n",
        "      X[:][:][i] = resized\n",
        "      Y.append(glitch)\n",
        "      i = i+1 \n",
        "\n",
        "  #Reshape for Input to CNN\n",
        "  X=X.reshape((image_count, 94, 114, 1))\n",
        "\n",
        "  return X, Y"
      ],
      "execution_count": 0,
      "outputs": []
    },
    {
      "cell_type": "markdown",
      "metadata": {
        "id": "2r__pM946ulK",
        "colab_type": "text"
      },
      "source": [
        "Preprocess Labels to Numerical Values"
      ]
    },
    {
      "cell_type": "code",
      "metadata": {
        "id": "gSJvylewDF85",
        "colab_type": "code",
        "colab": {}
      },
      "source": [
        "\n",
        "def preprocessY (lst):\n",
        "  integer_encoded = label_encoder.fit_transform(np.array(lst))\n",
        "  trainY=to_categorical(integer_encoded)\n",
        "  return trainY"
      ],
      "execution_count": 0,
      "outputs": []
    },
    {
      "cell_type": "code",
      "metadata": {
        "id": "sePUCHXNIX1X",
        "colab_type": "code",
        "colab": {}
      },
      "source": [
        "trainX, trainY=preprocessX('train', glitch_set)\n",
        "testX, testY=preprocessX('test', glitch_set)\n",
        "validationX, validationY=preprocessX('validation', glitch_set)"
      ],
      "execution_count": 0,
      "outputs": []
    },
    {
      "cell_type": "code",
      "metadata": {
        "id": "SOpcSAmpDkSq",
        "colab_type": "code",
        "colab": {}
      },
      "source": [
        "trainY=preprocessY(trainY)\n",
        "testY=preprocessY(testY)\n",
        "validationY=preprocessY(validationY)"
      ],
      "execution_count": 0,
      "outputs": []
    },
    {
      "cell_type": "code",
      "metadata": {
        "id": "fbyk9KS95mo-",
        "colab_type": "code",
        "colab": {}
      },
      "source": [
        "input_shape=(94, 114, 1)\n",
        "batch_size =64"
      ],
      "execution_count": 0,
      "outputs": []
    },
    {
      "cell_type": "markdown",
      "metadata": {
        "id": "DwYDxmGb6aIx",
        "colab_type": "text"
      },
      "source": [
        "Create Model"
      ]
    },
    {
      "cell_type": "code",
      "metadata": {
        "id": "bKlA8S-G4x-s",
        "colab_type": "code",
        "colab": {}
      },
      "source": [
        "#Define Model\n",
        "model=Sequential()\n",
        "model.add(Conv2D(128, kernel_size=(5, 5), activation='relu', input_shape=input_shape))\n",
        "model.add(MaxPooling2D((2, 2)))\n",
        "model.add(Conv2D(128, kernel_size=(5, 5), activation='relu'))\n",
        "model.add(MaxPooling2D(pool_size=(2, 2)))\n",
        "\n",
        "model.add(Flatten())\n",
        "\n",
        "model.add(Dense(256, activation='relu'))\n",
        "model.add(Dense(22, activation='softmax'))\n",
        "\n",
        "model.compile(loss=CategoricalCrossentropy(),\n",
        "              optimizer=Adam(),\n",
        "              metrics=['accuracy'])\n"
      ],
      "execution_count": 0,
      "outputs": []
    },
    {
      "cell_type": "code",
      "metadata": {
        "id": "ZBA5k4Mb8P3e",
        "colab_type": "code",
        "outputId": "619f95ec-8400-47d5-f9f0-aa0de75ff89b",
        "colab": {
          "base_uri": "https://localhost:8080/",
          "height": 383
        }
      },
      "source": [
        "model.summary()"
      ],
      "execution_count": 0,
      "outputs": [
        {
          "output_type": "stream",
          "text": [
            "Model: \"sequential\"\n",
            "_________________________________________________________________\n",
            "Layer (type)                 Output Shape              Param #   \n",
            "=================================================================\n",
            "conv2d (Conv2D)              (None, 90, 110, 128)      3328      \n",
            "_________________________________________________________________\n",
            "max_pooling2d (MaxPooling2D) (None, 45, 55, 128)       0         \n",
            "_________________________________________________________________\n",
            "conv2d_1 (Conv2D)            (None, 41, 51, 128)       409728    \n",
            "_________________________________________________________________\n",
            "max_pooling2d_1 (MaxPooling2 (None, 20, 25, 128)       0         \n",
            "_________________________________________________________________\n",
            "flatten (Flatten)            (None, 64000)             0         \n",
            "_________________________________________________________________\n",
            "dense (Dense)                (None, 256)               16384256  \n",
            "_________________________________________________________________\n",
            "dense_1 (Dense)              (None, 22)                5654      \n",
            "=================================================================\n",
            "Total params: 16,802,966\n",
            "Trainable params: 16,802,966\n",
            "Non-trainable params: 0\n",
            "_________________________________________________________________\n"
          ],
          "name": "stdout"
        }
      ]
    },
    {
      "cell_type": "markdown",
      "metadata": {
        "id": "ZG5x3c5P6c1g",
        "colab_type": "text"
      },
      "source": [
        "Fit the Model"
      ]
    },
    {
      "cell_type": "code",
      "metadata": {
        "id": "lFG2VfaT_tQf",
        "colab_type": "code",
        "colab": {}
      },
      "source": [
        "def gen(features, labels, batch_size):\n",
        " # Create empty arrays to contain batch of features and labels#\n",
        " batch_features = np.zeros((batch_size, 94, 114))\n",
        " batch_labels = np.zeros((batch_size,3))\n",
        " while True:\n",
        "   for i in range(batch_size):\n",
        "     # choose random index in features\n",
        "     index= random.choices(range(len(labels)),k=batch_size)\n",
        "     batch_features = features[index]\n",
        "     batch_labels = labels[index]\n",
        "     batch_features = batch_features.reshape(batch_size, 94, 114, 1)\n",
        "   yield batch_features, batch_labels"
      ],
      "execution_count": 0,
      "outputs": []
    },
    {
      "cell_type": "code",
      "metadata": {
        "id": "kMkC9Z3f_4HA",
        "colab_type": "code",
        "outputId": "dbaf2722-5aaa-4796-d83d-411ada9387c6",
        "colab": {
          "base_uri": "https://localhost:8080/",
          "height": 420
        }
      },
      "source": [
        "history=model.fit_generator(gen(trainX, trainY, batch_size), \n",
        "                    steps_per_epoch=trainY.shape[0]//batch_size, \n",
        "                    epochs=10, \n",
        "                    validation_data=gen(validationX, validationY, batch_size),\n",
        "                    validation_steps=validationY.shape[0]//batch_size\n",
        "                    )"
      ],
      "execution_count": 0,
      "outputs": [
        {
          "output_type": "stream",
          "text": [
            "WARNING:tensorflow:From <ipython-input-31-be3ad04ea52a>:5: Model.fit_generator (from tensorflow.python.keras.engine.training) is deprecated and will be removed in a future version.\n",
            "Instructions for updating:\n",
            "Please use Model.fit, which supports generators.\n",
            "Epoch 1/10\n",
            "93/93 [==============================] - 375s 4s/step - loss: 0.6779 - accuracy: 0.8216 - val_loss: 0.2456 - val_accuracy: 0.9203\n",
            "Epoch 2/10\n",
            "93/93 [==============================] - 373s 4s/step - loss: 0.1766 - accuracy: 0.9556 - val_loss: 0.1973 - val_accuracy: 0.9539\n",
            "Epoch 3/10\n",
            "93/93 [==============================] - 372s 4s/step - loss: 0.1080 - accuracy: 0.9751 - val_loss: 0.1575 - val_accuracy: 0.9609\n",
            "Epoch 4/10\n",
            "93/93 [==============================] - 369s 4s/step - loss: 0.0676 - accuracy: 0.9822 - val_loss: 0.1323 - val_accuracy: 0.9742\n",
            "Epoch 5/10\n",
            "93/93 [==============================] - 373s 4s/step - loss: 0.0443 - accuracy: 0.9882 - val_loss: 0.2004 - val_accuracy: 0.9625\n",
            "Epoch 6/10\n",
            "93/93 [==============================] - 373s 4s/step - loss: 0.0448 - accuracy: 0.9889 - val_loss: 0.1535 - val_accuracy: 0.9555\n",
            "Epoch 7/10\n",
            "93/93 [==============================] - 376s 4s/step - loss: 0.0300 - accuracy: 0.9931 - val_loss: 0.1820 - val_accuracy: 0.9641\n",
            "Epoch 8/10\n",
            "93/93 [==============================] - 376s 4s/step - loss: 0.0297 - accuracy: 0.9918 - val_loss: 0.1866 - val_accuracy: 0.9680\n",
            "Epoch 9/10\n",
            "93/93 [==============================] - 372s 4s/step - loss: 0.0215 - accuracy: 0.9945 - val_loss: 0.2053 - val_accuracy: 0.9641\n",
            "Epoch 10/10\n",
            "93/93 [==============================] - 374s 4s/step - loss: 0.0211 - accuracy: 0.9960 - val_loss: 0.1725 - val_accuracy: 0.9617\n"
          ],
          "name": "stdout"
        }
      ]
    },
    {
      "cell_type": "code",
      "metadata": {
        "id": "oOv1b4SWMP7y",
        "colab_type": "code",
        "colab": {}
      },
      "source": [
        "his=history"
      ],
      "execution_count": 0,
      "outputs": []
    },
    {
      "cell_type": "markdown",
      "metadata": {
        "id": "VWXdp4o76EBX",
        "colab_type": "text"
      },
      "source": [
        "Training and Validation Accuracy\n"
      ]
    },
    {
      "cell_type": "code",
      "metadata": {
        "id": "BGYeOszo7_im",
        "colab_type": "code",
        "outputId": "73ac7aec-217a-4bed-e7dc-2766b7ecf202",
        "colab": {
          "base_uri": "https://localhost:8080/",
          "height": 545
        }
      },
      "source": [
        "accuracy = his.history['accuracy']\n",
        "val_accuracy = his.history['val_accuracy']\n",
        "loss = his.history['loss']\n",
        "val_loss = his.history['val_loss']\n",
        "epochs = range(len(accuracy))\n",
        "\n",
        "plt.plot(epochs, accuracy, 'bo', label='Training accuracy')\n",
        "plt.plot(epochs, val_accuracy, 'b', label='Validation accuracy')\n",
        "plt.title('Training and validation accuracy')\n",
        "plt.legend()\n",
        "plt.figure()\n",
        "\n",
        "plt.plot(epochs, loss, 'bo', label='Training loss')\n",
        "plt.plot(epochs, val_loss, 'b', label='Validation loss')\n",
        "plt.title('Training and validation loss')\n",
        "plt.legend()\n",
        "plt.show()"
      ],
      "execution_count": 0,
      "outputs": [
        {
          "output_type": "display_data",
          "data": {
            "image/png": "[encoded data removed]",
            "text/plain": [
              "<Figure size 432x288 with 1 Axes>"
            ]
          },
          "metadata": {
            "tags": [],
            "needs_background": "light"
          }
        },
        {
          "output_type": "display_data",
          "data": {
            "image/png": "[encoded data removed]",
            "text/plain": [
              "<Figure size 432x288 with 1 Axes>"
            ]
          },
          "metadata": {
            "tags": [],
            "needs_background": "light"
          }
        }
      ]
    },
    {
      "cell_type": "markdown",
      "metadata": {
        "id": "tKPvV9sW6ILh",
        "colab_type": "text"
      },
      "source": [
        "Test Accuracy"
      ]
    },
    {
      "cell_type": "code",
      "metadata": {
        "id": "WPNby_CYehoS",
        "colab_type": "code",
        "outputId": "5aed25a1-1607-4ddf-e185-9181c1872c47",
        "colab": {
          "base_uri": "https://localhost:8080/",
          "height": 50
        }
      },
      "source": [
        "score = model.evaluate(testX, testY, verbose=0)\n",
        "print('Test loss:', score[0])\n",
        "print('Test accuracy:', score[1])"
      ],
      "execution_count": 0,
      "outputs": [
        {
          "output_type": "stream",
          "text": [
            "Test loss: 0.14665627479553223\n",
            "Test accuracy: 0.9728049635887146\n"
          ],
          "name": "stdout"
        }
      ]
    },
    {
      "cell_type": "markdown",
      "metadata": {
        "id": "_BQjdlyD6Ko0",
        "colab_type": "text"
      },
      "source": [
        "Prediction"
      ]
    },
    {
      "cell_type": "code",
      "metadata": {
        "id": "SL5vzehNbfri",
        "colab_type": "code",
        "colab": {}
      },
      "source": [
        "prediction=model.predict(testX)"
      ],
      "execution_count": 0,
      "outputs": []
    },
    {
      "cell_type": "code",
      "metadata": {
        "id": "I3FXP0qMk4AP",
        "colab_type": "code",
        "colab": {}
      },
      "source": [
        "pred_labels = np.argmax(prediction, axis=-1)    "
      ],
      "execution_count": 0,
      "outputs": []
    },
    {
      "cell_type": "code",
      "metadata": {
        "id": "bAicaynBnAC9",
        "colab_type": "code",
        "colab": {}
      },
      "source": [
        "test_labels= np.argmax(testY, axis=-1)  "
      ],
      "execution_count": 0,
      "outputs": []
    },
    {
      "cell_type": "markdown",
      "metadata": {
        "id": "BSXJyHDw6NYu",
        "colab_type": "text"
      },
      "source": [
        "Precision and Recall"
      ]
    },
    {
      "cell_type": "code",
      "metadata": {
        "id": "a1ZCU82IvmJX",
        "colab_type": "code",
        "colab": {}
      },
      "source": [
        "from sklearn.metrics import classification_report"
      ],
      "execution_count": 0,
      "outputs": []
    },
    {
      "cell_type": "code",
      "metadata": {
        "id": "S-NhWOqPW1if",
        "colab_type": "code",
        "outputId": "5b7df3f2-e4e4-4773-af04-f73a5f2ed9e2",
        "colab": {
          "base_uri": "https://localhost:8080/",
          "height": 500
        }
      },
      "source": [
        "#Precision/Recall\n",
        "print(classification_report(test_labels, pred_labels, target_names=glitch_set))"
      ],
      "execution_count": 0,
      "outputs": [
        {
          "output_type": "stream",
          "text": [
            "                     precision    recall  f1-score   support\n",
            "\n",
            "          1080Lines       1.00      1.00      1.00        49\n",
            "        1400Ripples       1.00      1.00      1.00        35\n",
            "     Air_Compressor       1.00      0.89      0.94         9\n",
            "               Blip       0.99      0.99      0.99       280\n",
            "              Chirp       1.00      1.00      1.00        10\n",
            "     Extremely_Loud       1.00      0.97      0.99        68\n",
            "              Helix       1.00      0.98      0.99        42\n",
            "           Koi_Fish       0.99      0.95      0.97       124\n",
            "   Light_Modulation       0.95      0.98      0.97        86\n",
            "Low_Frequency_Burst       1.00      0.97      0.98        98\n",
            "Low_Frequency_Lines       0.97      0.94      0.96        68\n",
            "          No_Glitch       0.87      1.00      0.93        27\n",
            "  None_of_the_Above       0.57      0.62      0.59        13\n",
            "       Paired_Doves       1.00      1.00      1.00         4\n",
            "         Power_Line       0.99      1.00      0.99        68\n",
            "    Repeating_Blips       0.91      0.95      0.93        42\n",
            "    Scattered_Light       1.00      1.00      1.00        69\n",
            "           Scratchy       0.95      1.00      0.97        53\n",
            "              Tomte       0.86      1.00      0.92        18\n",
            "        Violin_Mode       0.97      0.99      0.98        71\n",
            "     Wandering_Line       1.00      0.71      0.83         7\n",
            "            Whistle       0.98      0.93      0.96        46\n",
            "\n",
            "           accuracy                           0.97      1287\n",
            "          macro avg       0.95      0.95      0.95      1287\n",
            "       weighted avg       0.97      0.97      0.97      1287\n",
            "\n"
          ],
          "name": "stdout"
        }
      ]
    },
    {
      "cell_type": "markdown",
      "metadata": {
        "id": "y2bvKuv26QAw",
        "colab_type": "text"
      },
      "source": [
        "Confusion Matrix"
      ]
    },
    {
      "cell_type": "code",
      "metadata": {
        "id": "F92o7weoX4w4",
        "colab_type": "code",
        "outputId": "2c326bd9-5bde-4c12-a1ea-dd1a072c52db",
        "colab": {
          "base_uri": "https://localhost:8080/",
          "height": 707
        }
      },
      "source": [
        "#Confusion Matrix\n",
        "import seaborn as sns\n",
        "from sklearn.metrics import confusion_matrix\n",
        "\n",
        "def plot_cm(y_true, y_pred, label, figsize=(16,10)):\n",
        "    cm = confusion_matrix(y_true, y_pred, labels=np.unique(y_true))\n",
        "    cm_sum = np.sum(cm, axis=1, keepdims=True)\n",
        "    cm_perc = cm / cm_sum.astype(float) \n",
        "    annot = np.empty_like(cm).astype(str)\n",
        "    nrows, ncols = cm.shape\n",
        "    for i in range(nrows):\n",
        "        for j in range(ncols):\n",
        "            c = cm[i, j]\n",
        "            p = cm_perc[i, j]\n",
        "            if i == j:\n",
        "                s = cm_sum[i]\n",
        "                annot[i, j] = '%.1f\\n%d/%d' % (p, c, s)\n",
        "            elif c == 0:\n",
        "                annot[i, j] = ''\n",
        "            else:\n",
        "                annot[i, j] = '%.1f\\n%d' % (p, c)\n",
        "    cm = pd.DataFrame(cm_perc, index=label, columns=label)\n",
        "    cm.index.name = 'Actual'\n",
        "    cm.columns.name = 'Predicted'\n",
        "    fig, ax = plt.subplots(figsize=figsize)\n",
        "    sns.heatmap(cm, annot=annot, fmt='', ax=ax, cmap='viridis')\n",
        "    \n",
        "plot_cm(test_labels, pred_labels, glitch_set)"
      ],
      "execution_count": 0,
      "outputs": [
        {
          "output_type": "display_data",
          "data": {
            "image/png": "[encoded data removed]",
            "text/plain": [
              "<Figure size 1152x720 with 2 Axes>"
            ]
          },
          "metadata": {
            "tags": [],
            "needs_background": "light"
          }
        }
      ]
    }
  ]
}